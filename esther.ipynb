{
 "cells": [
  {
   "cell_type": "code",
   "execution_count": 1,
   "id": "41d7883d",
   "metadata": {},
   "outputs": [
    {
     "name": "stdout",
     "output_type": "stream",
     "text": [
      "9\n",
      "36\n",
      "64\n",
      "81\n",
      "1\n",
      "9\n",
      "25\n"
     ]
    }
   ],
   "source": [
    "def ojei(r):\n",
    "    for i in r:\n",
    "        print(i**2)\n",
    "we = ojei([3,6,8,9,1,3,5])"
   ]
  },
  {
   "cell_type": "code",
   "execution_count": 2,
   "id": "f7da07ac",
   "metadata": {},
   "outputs": [],
   "source": [
    "class wisdom:\n",
    "    def __init__(self,height,name,sex):\n",
    "        self.height = height\n",
    "        self.name = name\n",
    "        self.sex = sex\n",
    "    \n",
    "    def maturity(self,weight):\n",
    "        return self.height / weight\n",
    "tree = wisdom(23,\"iroko\",\"neutral\")\n"
   ]
  },
  {
   "cell_type": "markdown",
   "id": "4fb8f000",
   "metadata": {},
   "source": [
    "# testing to see how wisdom increases with maturity"
   ]
  },
  {
   "cell_type": "markdown",
   "id": "0547ca8e",
   "metadata": {},
   "source": [
    "knowing that we already have maturity formular to"
   ]
  },
  {
   "cell_type": "markdown",
   "id": "e6d616a3",
   "metadata": {},
   "source": [
    "%% y = mx + c %%"
   ]
  },
  {
   "cell_type": "markdown",
   "id": "fe04b157",
   "metadata": {},
   "source": [
    "$$y=mx+c$$"
   ]
  },
  {
   "cell_type": "code",
   "execution_count": null,
   "id": "d7bd6d69",
   "metadata": {},
   "outputs": [],
   "source": []
  }
 ],
 "metadata": {
  "kernelspec": {
   "display_name": "Python 3 (ipykernel)",
   "language": "python",
   "name": "python3"
  },
  "language_info": {
   "codemirror_mode": {
    "name": "ipython",
    "version": 3
   },
   "file_extension": ".py",
   "mimetype": "text/x-python",
   "name": "python",
   "nbconvert_exporter": "python",
   "pygments_lexer": "ipython3",
   "version": "3.9.7"
  }
 },
 "nbformat": 4,
 "nbformat_minor": 5
}
